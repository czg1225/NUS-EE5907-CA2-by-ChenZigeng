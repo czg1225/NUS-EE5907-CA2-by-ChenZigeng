{
 "cells": [
  {
   "cell_type": "markdown",
   "id": "3e59e431",
   "metadata": {},
   "source": [
    "\n",
    "## SVM for Classification"
   ]
  },
  {
   "cell_type": "code",
   "execution_count": 1,
   "id": "ab46c374",
   "metadata": {},
   "outputs": [
    {
     "name": "stdout",
     "output_type": "stream",
     "text": [
      "[ 4  5  6 10 11 12 14 15 17 21 22 27 28 29 32 36 41 45 47 48 52 59 64 66\n",
      " 68]\n",
      "(2982, 1024)\n",
      "(2982, 1)\n",
      "(1275, 1024)\n",
      "(1275, 1)\n"
     ]
    }
   ],
   "source": [
    "import os\n",
    "import matplotlib.pyplot as plt\n",
    "import numpy as np\n",
    "import random\n",
    "import cv2\n",
    "from libsvm.svmutil import *\n",
    "# prepare my own photo\n",
    "# pathlist = glob.glob(r\"PIE/myself/*.jpg\")\n",
    "# for i,path in enumerate(pathlist):\n",
    "#\n",
    "#     img = cv2.imread(path,0)\n",
    "#     img = cv2.resize(img,[32,32])\n",
    "#     print(img.shape)\n",
    "#     savepath = \"PIE/0/\"+str(i+1)+\".jpg\"\n",
    "#     print(savepath)\n",
    "#     cv2.imwrite(savepath, img)\n",
    "\n",
    "# load data\n",
    "\n",
    "indexlist = np.arange(1,69,1)\n",
    "np.random.shuffle(indexlist)\n",
    "indexlist = indexlist[0:25]\n",
    "#indexlist = np.append(indexlist,0)\n",
    "indexlist.sort()\n",
    "print(indexlist)\n",
    "eachclass_num = [len([f for f in os.listdir(os.path.join('PIE', str(s))) if f.endswith('.jpg')]) for s in indexlist]\n",
    "total_num = sum(eachclass_num)\n",
    "vector = np.zeros([total_num,32,32])\n",
    "label = np.zeros([total_num,1])\n",
    "\n",
    "\n",
    "n=0\n",
    "for i,cls in enumerate(indexlist):\n",
    "    for img_path in [f for f in os.listdir(os.path.join('PIE', str(cls))) if f.endswith('.jpg')]:\n",
    "        img_path = \"PIE/\"+str(cls)+\"/\"+img_path\n",
    "        img_cur = cv2.imread(img_path,0)\n",
    "        vector[n] = img_cur\n",
    "        label[n] = cls\n",
    "        n += 1\n",
    "\n",
    "vector = np.reshape(vector,(vector.shape[0],-1))\n",
    "vector = np.concatenate([vector,label],axis=1)\n",
    "np.random.shuffle(vector)\n",
    "label[:,:] = vector[:,1024:1025]\n",
    "vector = vector[:,0:1024]\n",
    "\n",
    "\n",
    "\n",
    "self_vector = np.zeros([10,32,32])\n",
    "self_label = np.zeros([10,1])\n",
    "n=0\n",
    "for img_path in [f for f in os.listdir(os.path.join('PIE', str(0))) if f.endswith('.jpg')]:\n",
    "    img_path = \"PIE/\" + str(0) + \"/\" + img_path\n",
    "    img_cur = cv2.imread(img_path, 0)\n",
    "    self_vector[n] = img_cur\n",
    "    n += 1\n",
    "self_vector = np.reshape(self_vector,(self_vector.shape[0],-1))\n",
    "\n",
    "\n",
    "\n",
    "trainset = vector[0:int(total_num*0.7)]\n",
    "trainlabel = label[0:int(total_num*0.7)]\n",
    "testset = vector[int(total_num*0.7):]\n",
    "testlabel = label[int(total_num*0.7):]\n",
    "\n",
    "\n",
    "trainset = np.concatenate([trainset,self_vector[0:7]])\n",
    "trainlabel = np.concatenate([trainlabel,self_label[0:7]])\n",
    "# testset = np.concatenate([testset,self_vector[7:]])\n",
    "# testlabel = np.concatenate([testlabel,self_label[7:]])\n",
    "\n",
    "print(trainset.shape)\n",
    "print(trainlabel.shape)\n",
    "print(testset.shape)\n",
    "print(testlabel.shape)\n",
    "\n",
    "\n",
    "def PCA(trainset,k):\n",
    "    M = trainset - trainset.mean(axis=0)\n",
    "    train_cov = np.cov(M.T)\n",
    "    eigenvalues, eigenvectors = np.linalg.eig(train_cov)\n",
    "    eigenvectors = eigenvectors.real\n",
    "    sort = eigenvalues.argsort()[::-1]\n",
    "    eigenvalues = eigenvalues[sort]\n",
    "    eigenvectors = eigenvectors[:, sort]\n",
    "    eigenvalues = eigenvalues[0:k]\n",
    "    eigenfaces = eigenvectors[:,0:k]\n",
    "    return eigenvalues, eigenfaces\n",
    "\n",
    "def SVM(trainset,trainlabel,testset,testlabel,cost):\n",
    "    y = trainlabel.T[0]\n",
    "    x = trainset\n",
    "    prob  = svm_problem(y, x)\n",
    "    config = '-t 0 -b 1' + ' -c '+str(cost)\n",
    "    param = svm_parameter(config)\n",
    "    m = svm_train(prob, param)\n",
    "    y = testlabel.T[0]\n",
    "    x = testset\n",
    "    p_label, p_acc, p_val = svm_predict(y, x, m,'-b 1')\n",
    "    return p_acc[0]"
   ]
  },
  {
   "cell_type": "code",
   "execution_count": 2,
   "id": "af9d0d85",
   "metadata": {},
   "outputs": [
    {
     "name": "stdout",
     "output_type": "stream",
     "text": [
      "Accuracy = 98.7451% (1259/1275) (classification)\n",
      "Accuracy = 98.7451% (1259/1275) (classification)\n",
      "Accuracy = 98.6667% (1258/1275) (classification)\n",
      "Classification Accuracy (raw images C=1): 98.74509803921569\n",
      "Classification Accuracy (raw images C=0.1): 98.74509803921569\n",
      "Classification Accuracy (raw images C=0.01): 98.66666666666667\n"
     ]
    }
   ],
   "source": [
    "acc1 = []\n",
    "acc1.append(SVM(trainset,trainlabel,testset,testlabel,1))\n",
    "acc1.append(SVM(trainset,trainlabel,testset,testlabel,0.1))\n",
    "acc1.append(SVM(trainset,trainlabel,testset,testlabel,0.01))\n",
    "print(\"Classification Accuracy (raw images C=1):\",acc1[0])\n",
    "print(\"Classification Accuracy (raw images C=0.1):\",acc1[1])\n",
    "print(\"Classification Accuracy (raw images C=0.01):\",acc1[2])"
   ]
  },
  {
   "cell_type": "code",
   "execution_count": 4,
   "id": "9db43dbf",
   "metadata": {},
   "outputs": [
    {
     "name": "stdout",
     "output_type": "stream",
     "text": [
      "Accuracy = 98.5882% (1257/1275) (classification)\n",
      "Accuracy = 98.5882% (1257/1275) (classification)\n",
      "Accuracy = 98.5882% (1257/1275) (classification)\n",
      "Classification Accuracy (200 dimensions C=1): 98.58823529411764\n",
      "Classification Accuracy (200 dimensions C=0.1): 98.58823529411764\n",
      "Classification Accuracy (200 dimensions C=0.01): 98.58823529411764\n"
     ]
    }
   ],
   "source": [
    "e_num = 200\n",
    "eigenvalues, eigenfaces = PCA(trainset,e_num)\n",
    "train_redu = np.dot(trainset, eigenfaces)\n",
    "test_redu = np.dot(testset, eigenfaces)\n",
    "acc3 = []\n",
    "acc3.append(SVM(train_redu,trainlabel,test_redu,testlabel,1))\n",
    "acc3.append(SVM(train_redu,trainlabel,test_redu,testlabel,0.1))\n",
    "acc3.append(SVM(train_redu,trainlabel,test_redu,testlabel,0.01))\n",
    "print(\"Classification Accuracy (200 dimensions C=1):\",acc3[0])\n",
    "print(\"Classification Accuracy (200 dimensions C=0.1):\",acc3[1])\n",
    "print(\"Classification Accuracy (200 dimensions C=0.01):\",acc3[2])"
   ]
  },
  {
   "cell_type": "code",
   "execution_count": 5,
   "id": "67530dd6",
   "metadata": {},
   "outputs": [
    {
     "name": "stdout",
     "output_type": "stream",
     "text": [
      "Accuracy = 98.2745% (1253/1275) (classification)\n",
      "Accuracy = 98.3529% (1254/1275) (classification)\n",
      "Accuracy = 98.5098% (1256/1275) (classification)\n",
      "Classification Accuracy (80 dimensions C=1): 98.27450980392157\n",
      "Classification Accuracy (80 dimensions C=0.1): 98.3529411764706\n",
      "Classification Accuracy (80 dimensions C=0.01): 98.50980392156863\n"
     ]
    }
   ],
   "source": [
    "e_num = 80\n",
    "eigenvalues, eigenfaces = PCA(trainset,e_num)\n",
    "train_redu = np.dot(trainset, eigenfaces)\n",
    "test_redu = np.dot(testset, eigenfaces)\n",
    "acc2 = []\n",
    "acc2.append(SVM(train_redu,trainlabel,test_redu,testlabel,1))\n",
    "acc2.append(SVM(train_redu,trainlabel,test_redu,testlabel,0.1))\n",
    "acc2.append(SVM(train_redu,trainlabel,test_redu,testlabel,0.01))\n",
    "print(\"Classification Accuracy (80 dimensions C=1):\",acc2[0])\n",
    "print(\"Classification Accuracy (80 dimensions C=0.1):\",acc2[1])\n",
    "print(\"Classification Accuracy (80 dimensions C=0.01):\",acc2[2])"
   ]
  },
  {
   "cell_type": "code",
   "execution_count": null,
   "id": "7940005c",
   "metadata": {},
   "outputs": [],
   "source": []
  }
 ],
 "metadata": {
  "kernelspec": {
   "display_name": "Python [conda env:pytorch] *",
   "language": "python",
   "name": "conda-env-pytorch-py"
  },
  "language_info": {
   "codemirror_mode": {
    "name": "ipython",
    "version": 3
   },
   "file_extension": ".py",
   "mimetype": "text/x-python",
   "name": "python",
   "nbconvert_exporter": "python",
   "pygments_lexer": "ipython3",
   "version": "3.9.7"
  }
 },
 "nbformat": 4,
 "nbformat_minor": 5
}
